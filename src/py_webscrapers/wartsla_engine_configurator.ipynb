{
 "cells": [
  {
   "cell_type": "code",
   "execution_count": 1,
   "metadata": {},
   "outputs": [],
   "source": [
    "import pickle\n",
    "import sys\n",
    "\n",
    "import pandas as pd\n",
    "from selenium import webdriver\n",
    "from selenium.webdriver.chrome.service import Service\n",
    "from selenium.webdriver.common.by import By\n",
    "from selenium.webdriver.common.keys import Keys\n",
    "from selenium.webdriver.support import expected_conditions as EC\n",
    "from selenium.webdriver.support.ui import WebDriverWait\n",
    "\n",
    "# sudo apt-get install chromium-chromedriver"
   ]
  },
  {
   "cell_type": "code",
   "execution_count": 2,
   "metadata": {},
   "outputs": [],
   "source": [
    "if sys.platform in \"linux\":\n",
    "    service = Service(executable_path=\"/usr/lib/chromium-browser/chromedriver\")\n",
    "elif sys.platform in \"win32\":\n",
    "    service = Service(executable_path=\"chromedriver.exe\")\n",
    "\n",
    "driver = webdriver.Chrome(service=service)"
   ]
  },
  {
   "cell_type": "code",
   "execution_count": 3,
   "metadata": {},
   "outputs": [],
   "source": [
    "url = \"https://www.wartsila.com/marine/engine-configurator\""
   ]
  },
  {
   "cell_type": "code",
   "execution_count": 4,
   "metadata": {},
   "outputs": [],
   "source": [
    "engine_applications = [\n",
    "    \"Generating set auxiliary\",  # 0\n",
    "    \"Mechanical propulsion & CPP\",  # 1\n",
    "    \"Mechanical propulsion & FPP\",  # 2\n",
    "    \"Diesel electric\",  # 3\n",
    "    \"Dredger\",  # 4\n",
    "]\n",
    "\n",
    "frequencies = [\"50 Hz\", \"60 Hz\"]  # 0, 1\n",
    "\n",
    "fuel_types = [\n",
    "    \"Marine diesel oil\",  # 0\n",
    "    \"Heavy fuel oil\",  # 1\n",
    "    \"Gas - LNG\",  # 2\n",
    "    \"Future fuels\",  # 3\n",
    "]\n",
    "\n",
    "emissions = [\"IMO Tier 2\", \"IMO Tier 3\"]  # 0, 1"
   ]
  },
  {
   "cell_type": "code",
   "execution_count": 5,
   "metadata": {},
   "outputs": [],
   "source": [
    "selection = [3, 0, 0, 1]"
   ]
  },
  {
   "cell_type": "code",
   "execution_count": 6,
   "metadata": {},
   "outputs": [],
   "source": [
    "Wartsila = {}"
   ]
  },
  {
   "cell_type": "code",
   "execution_count": 7,
   "metadata": {},
   "outputs": [],
   "source": [
    "driver.get(url)"
   ]
  },
  {
   "cell_type": "code",
   "execution_count": 8,
   "metadata": {},
   "outputs": [],
   "source": [
    "accept_cookies = driver.find_element(\n",
    "    By.XPATH, \"//*[contains(text(), 'Accept all cookies')]\"\n",
    ")\n",
    "accept_cookies.click()"
   ]
  },
  {
   "cell_type": "code",
   "execution_count": 9,
   "metadata": {},
   "outputs": [],
   "source": [
    "engine_application = driver.find_element(\n",
    "    By.XPATH, f\"//*[contains(text(), '{engine_applications[selection[0]]}')]\"\n",
    ")\n",
    "engine_application.click()\n",
    "\n",
    "Next = driver.find_element(By.XPATH, \"//*[contains(text(), 'Next')]\")\n",
    "Next.click()"
   ]
  },
  {
   "cell_type": "code",
   "execution_count": 10,
   "metadata": {},
   "outputs": [],
   "source": [
    "frequency = driver.find_elements(By.CLASS_NAME, \"sc-jDwBTQ.eCADnn\")\n",
    "\n",
    "for hz in frequency:\n",
    "    if hz.text in frequencies[selection[1]]:\n",
    "        driver.execute_script(\n",
    "            \"arguments[0].setAttribute('class', 'sc-jDwBTQ kiwTZd')\", hz\n",
    "        )\n",
    "        hz.click()\n",
    "\n",
    "Next = driver.find_element(By.XPATH, \"//*[contains(text(), 'Next')]\")\n",
    "Next.click()"
   ]
  },
  {
   "cell_type": "code",
   "execution_count": 11,
   "metadata": {},
   "outputs": [],
   "source": [
    "fuel_type = driver.find_element(\n",
    "    By.XPATH, f\"//*[contains(text(), '{fuel_types[selection[2]]}')]\"\n",
    ")\n",
    "fuel_type.click()\n",
    "\n",
    "Next = driver.find_element(By.XPATH, \"//*[contains(text(), 'Next')]\")\n",
    "Next.click()"
   ]
  },
  {
   "cell_type": "code",
   "execution_count": 13,
   "metadata": {},
   "outputs": [],
   "source": [
    "Next = driver.find_element(By.XPATH, \"//*[contains(text(), 'Next')]\")\n",
    "Next.click()"
   ]
  },
  {
   "cell_type": "code",
   "execution_count": 14,
   "metadata": {},
   "outputs": [],
   "source": [
    "emission = driver.find_element(\n",
    "    By.XPATH, f\"//*[contains(text(), '{emissions[selection[3]]}')]\"\n",
    ")\n",
    "emission.click()\n",
    "\n",
    "Next = driver.find_element(By.XPATH, \"//*[contains(text(), 'Next')]\")\n",
    "Next.click()"
   ]
  },
  {
   "cell_type": "code",
   "execution_count": 15,
   "metadata": {},
   "outputs": [],
   "source": [
    "Header = driver.find_elements(\n",
    "    By.XPATH, '//table[@class=\"sc-kgoBCf cQrLZs\"]/thead/tr/th'\n",
    ")\n",
    "\n",
    "engine = [h.text for h in Header]\n",
    "engine = [x for x in engine if x]\n",
    "\n",
    "Wartsila[\"engine_models\"] = engine"
   ]
  },
  {
   "cell_type": "code",
   "execution_count": 16,
   "metadata": {},
   "outputs": [],
   "source": [
    "for j in range(len(engine)):\n",
    "    Engines = driver.find_element(By.XPATH, f\"//*[contains(text(), '{engine[j]}')]\")\n",
    "    Engines.click()\n",
    "\n",
    "    Next = driver.find_element(By.XPATH, \"//*[contains(text(), 'Next')]\")\n",
    "    Next.click()\n",
    "\n",
    "    data = driver.find_element(By.XPATH, '//table[@class=\"sc-brqgnP fkDYJi\"]/tbody')\n",
    "\n",
    "    spec_name = []\n",
    "    spec_item = []\n",
    "\n",
    "    for row in data.find_elements(By.XPATH, \".//tr\"):\n",
    "        tmp = row.find_elements(By.XPATH, \"td\")\n",
    "\n",
    "        if len(tmp) == 1:\n",
    "            spec_name.append(tmp[0].get_attribute(\"textContent\"))\n",
    "            spec_item.append(\"\")\n",
    "        else:\n",
    "            spec_name.append(tmp[0].get_attribute(\"textContent\"))\n",
    "            spec_item.append(tmp[1].get_attribute(\"textContent\"))\n",
    "\n",
    "    Wartsila[engine[j]] = pd.DataFrame({\"description\": spec_name, \"values\": spec_item})\n",
    "\n",
    "    back = driver.find_element(By.XPATH, \"//*[contains(text(), 'Back')]\")\n",
    "    back.click()"
   ]
  },
  {
   "cell_type": "code",
   "execution_count": 17,
   "metadata": {},
   "outputs": [],
   "source": [
    "with open(\"Wartsila_engines.pkl\", \"wb\") as f:\n",
    "    pickle.dump(Wartsila, f)"
   ]
  }
 ],
 "metadata": {
  "kernelspec": {
   "display_name": "Python 3",
   "language": "python",
   "name": "python3"
  },
  "language_info": {
   "codemirror_mode": {
    "name": "ipython",
    "version": 3
   },
   "file_extension": ".py",
   "mimetype": "text/x-python",
   "name": "python",
   "nbconvert_exporter": "python",
   "pygments_lexer": "ipython3",
   "version": "3.10.12"
  }
 },
 "nbformat": 4,
 "nbformat_minor": 2
}
